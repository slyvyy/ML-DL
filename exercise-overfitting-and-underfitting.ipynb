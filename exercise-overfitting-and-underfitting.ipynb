{
 "cells": [
  {
   "cell_type": "markdown",
   "id": "266d6ef9",
   "metadata": {
    "papermill": {
     "duration": 0.007263,
     "end_time": "2023-06-30T17:06:33.673370",
     "exception": false,
     "start_time": "2023-06-30T17:06:33.666107",
     "status": "completed"
    },
    "tags": []
   },
   "source": [
    "**This notebook is an exercise in the [Intro to Deep Learning](https://www.kaggle.com/learn/intro-to-deep-learning) course.  You can reference the tutorial at [this link](https://www.kaggle.com/ryanholbrook/overfitting-and-underfitting).**\n",
    "\n",
    "---\n"
   ]
  },
  {
   "cell_type": "markdown",
   "id": "3f708918",
   "metadata": {
    "papermill": {
     "duration": 0.006632,
     "end_time": "2023-06-30T17:06:33.686961",
     "exception": false,
     "start_time": "2023-06-30T17:06:33.680329",
     "status": "completed"
    },
    "tags": []
   },
   "source": [
    "# Introduction #\n",
    "\n",
    "In this exercise, you’ll learn how to improve training outcomes by including an early stopping callback to prevent overfitting.\n",
    "\n",
    "When you're ready, run this next cell to set everything up!"
   ]
  },
  {
   "cell_type": "code",
   "execution_count": 1,
   "id": "35b529a7",
   "metadata": {
    "execution": {
     "iopub.execute_input": "2023-06-30T17:06:33.702184Z",
     "iopub.status.busy": "2023-06-30T17:06:33.701317Z",
     "iopub.status.idle": "2023-06-30T17:06:33.747267Z",
     "shell.execute_reply": "2023-06-30T17:06:33.746198Z"
    },
    "papermill": {
     "duration": 0.056545,
     "end_time": "2023-06-30T17:06:33.749783",
     "exception": false,
     "start_time": "2023-06-30T17:06:33.693238",
     "status": "completed"
    },
    "tags": []
   },
   "outputs": [],
   "source": [
    "# Setup plotting\n",
    "import matplotlib.pyplot as plt\n",
    "plt.style.use('Solarize_Light2')\n",
    "# Set Matplotlib defaults\n",
    "plt.rc('figure', autolayout=True)\n",
    "plt.rc('axes', labelweight='bold', labelsize='large',\n",
    "       titleweight='bold', titlesize=18, titlepad=10)\n",
    "plt.rc('animation', html='html5')\n",
    "\n",
    "# Setup feedback system\n",
    "from learntools.core import binder\n",
    "binder.bind(globals())\n",
    "from learntools.deep_learning_intro.ex4 import *"
   ]
  },
  {
   "cell_type": "markdown",
   "id": "2bcae1e1",
   "metadata": {
    "papermill": {
     "duration": 0.006389,
     "end_time": "2023-06-30T17:06:33.762870",
     "exception": false,
     "start_time": "2023-06-30T17:06:33.756481",
     "status": "completed"
    },
    "tags": []
   },
   "source": [
    "First load the *Spotify* dataset. Your task will be to predict the popularity of a song based on various audio features, like `'tempo'`, `'danceability'`, and `'mode'`."
   ]
  },
  {
   "cell_type": "code",
   "execution_count": 2,
   "id": "d0490dc0",
   "metadata": {
    "execution": {
     "iopub.execute_input": "2023-06-30T17:06:33.778679Z",
     "iopub.status.busy": "2023-06-30T17:06:33.777043Z",
     "iopub.status.idle": "2023-06-30T17:06:44.215544Z",
     "shell.execute_reply": "2023-06-30T17:06:44.214174Z"
    },
    "papermill": {
     "duration": 10.448925,
     "end_time": "2023-06-30T17:06:44.218211",
     "exception": false,
     "start_time": "2023-06-30T17:06:33.769286",
     "status": "completed"
    },
    "tags": []
   },
   "outputs": [
    {
     "name": "stderr",
     "output_type": "stream",
     "text": [
      "/opt/conda/lib/python3.10/site-packages/tensorflow_io/python/ops/__init__.py:98: UserWarning: unable to load libtensorflow_io_plugins.so: unable to open file: libtensorflow_io_plugins.so, from paths: ['/opt/conda/lib/python3.10/site-packages/tensorflow_io/python/ops/libtensorflow_io_plugins.so']\n",
      "caused by: ['/opt/conda/lib/python3.10/site-packages/tensorflow_io/python/ops/libtensorflow_io_plugins.so: undefined symbol: _ZN3tsl6StatusC1EN10tensorflow5error4CodeESt17basic_string_viewIcSt11char_traitsIcEENS_14SourceLocationE']\n",
      "  warnings.warn(f\"unable to load libtensorflow_io_plugins.so: {e}\")\n",
      "/opt/conda/lib/python3.10/site-packages/tensorflow_io/python/ops/__init__.py:104: UserWarning: file system plugins are not loaded: unable to open file: libtensorflow_io.so, from paths: ['/opt/conda/lib/python3.10/site-packages/tensorflow_io/python/ops/libtensorflow_io.so']\n",
      "caused by: ['/opt/conda/lib/python3.10/site-packages/tensorflow_io/python/ops/libtensorflow_io.so: undefined symbol: _ZTVN10tensorflow13GcsFileSystemE']\n",
      "  warnings.warn(f\"file system plugins are not loaded: {e}\")\n"
     ]
    },
    {
     "name": "stdout",
     "output_type": "stream",
     "text": [
      "Input shape: [18]\n"
     ]
    }
   ],
   "source": [
    "import pandas as pd\n",
    "from sklearn.preprocessing import StandardScaler, OneHotEncoder\n",
    "from sklearn.compose import make_column_transformer\n",
    "from sklearn.model_selection import GroupShuffleSplit\n",
    "\n",
    "from tensorflow import keras\n",
    "from tensorflow.keras import layers\n",
    "from tensorflow.keras import callbacks\n",
    "\n",
    "spotify = pd.read_csv('../input/dl-course-data/spotify.csv')\n",
    "\n",
    "X = spotify.copy().dropna()\n",
    "y = X.pop('track_popularity')\n",
    "artists = X['track_artist']\n",
    "\n",
    "features_num = ['danceability', 'energy', 'key', 'loudness', 'mode',\n",
    "                'speechiness', 'acousticness', 'instrumentalness',\n",
    "                'liveness', 'valence', 'tempo', 'duration_ms']\n",
    "features_cat = ['playlist_genre']\n",
    "\n",
    "preprocessor = make_column_transformer(\n",
    "    (StandardScaler(), features_num),\n",
    "    (OneHotEncoder(), features_cat),\n",
    ")\n",
    "\n",
    "# We'll do a \"grouped\" split to keep all of an artist's songs in one\n",
    "# split or the other. This is to help prevent signal leakage.\n",
    "def group_split(X, y, group, train_size=0.75):\n",
    "    splitter = GroupShuffleSplit(train_size=train_size)\n",
    "    train, test = next(splitter.split(X, y, groups=group))\n",
    "    return (X.iloc[train], X.iloc[test], y.iloc[train], y.iloc[test])\n",
    "\n",
    "X_train, X_valid, y_train, y_valid = group_split(X, y, artists)\n",
    "\n",
    "X_train = preprocessor.fit_transform(X_train)\n",
    "X_valid = preprocessor.transform(X_valid)\n",
    "y_train = y_train / 100 # popularity is on a scale 0-100, so this rescales to 0-1.\n",
    "y_valid = y_valid / 100\n",
    "\n",
    "input_shape = [X_train.shape[1]]\n",
    "print(\"Input shape: {}\".format(input_shape))"
   ]
  },
  {
   "cell_type": "markdown",
   "id": "f73624b2",
   "metadata": {
    "papermill": {
     "duration": 0.006179,
     "end_time": "2023-06-30T17:06:44.231551",
     "exception": false,
     "start_time": "2023-06-30T17:06:44.225372",
     "status": "completed"
    },
    "tags": []
   },
   "source": [
    "Let's start with the simplest network, a linear model. This model has low capacity.\n",
    "\n",
    "Run this next cell without any changes to train a linear model on the *Spotify* dataset."
   ]
  },
  {
   "cell_type": "code",
   "execution_count": 3,
   "id": "b9184ad3",
   "metadata": {
    "execution": {
     "iopub.execute_input": "2023-06-30T17:06:44.246550Z",
     "iopub.status.busy": "2023-06-30T17:06:44.244979Z",
     "iopub.status.idle": "2023-06-30T17:07:01.079281Z",
     "shell.execute_reply": "2023-06-30T17:07:01.078255Z"
    },
    "lines_to_next_cell": 0,
    "papermill": {
     "duration": 16.844232,
     "end_time": "2023-06-30T17:07:01.081993",
     "exception": false,
     "start_time": "2023-06-30T17:06:44.237761",
     "status": "completed"
    },
    "tags": []
   },
   "outputs": [
    {
     "name": "stdout",
     "output_type": "stream",
     "text": [
      "Minimum Validation Loss: 0.1956\n"
     ]
    },
    {
     "data": {
      "image/png": "[encoded data removed]",
      "text/plain": [
       "<Figure size 640x480 with 1 Axes>"
      ]
     },
     "metadata": {},
     "output_type": "display_data"
    }
   ],
   "source": [
    "model = keras.Sequential([\n",
    "    layers.Dense(1, input_shape=input_shape),\n",
    "])\n",
    "model.compile(\n",
    "    optimizer='adam',\n",
    "    loss='mae',\n",
    ")\n",
    "history = model.fit(\n",
    "    X_train, y_train,\n",
    "    validation_data=(X_valid, y_valid),\n",
    "    batch_size=512,\n",
    "    epochs=50,\n",
    "    verbose=0, # suppress output since we'll plot the curves\n",
    ")\n",
    "history_df = pd.DataFrame(history.history)\n",
    "history_df.loc[0:, ['loss', 'val_loss']].plot()\n",
    "print(\"Minimum Validation Loss: {:0.4f}\".format(history_df['val_loss'].min()));"
   ]
  },
  {
   "cell_type": "markdown",
   "id": "fb71d6e3",
   "metadata": {
    "papermill": {
     "duration": 0.006817,
     "end_time": "2023-06-30T17:07:01.096010",
     "exception": false,
     "start_time": "2023-06-30T17:07:01.089193",
     "status": "completed"
    },
    "tags": []
   },
   "source": [
    "It's not uncommon for the curves to follow a \"hockey stick\" pattern like you see here. This makes the final part of training hard to see, so let's start at epoch 10 instead:"
   ]
  },
  {
   "cell_type": "code",
   "execution_count": 4,
   "id": "f4253008",
   "metadata": {
    "execution": {
     "iopub.execute_input": "2023-06-30T17:07:01.113036Z",
     "iopub.status.busy": "2023-06-30T17:07:01.111157Z",
     "iopub.status.idle": "2023-06-30T17:07:01.661019Z",
     "shell.execute_reply": "2023-06-30T17:07:01.660049Z"
    },
    "papermill": {
     "duration": 0.560337,
     "end_time": "2023-06-30T17:07:01.663222",
     "exception": false,
     "start_time": "2023-06-30T17:07:01.102885",
     "status": "completed"
    },
    "tags": []
   },
   "outputs": [
    {
     "name": "stdout",
     "output_type": "stream",
     "text": [
      "Minimum Validation Loss: 0.1956\n"
     ]
    },
    {
     "data": {
      "image/png": "[encoded data removed]",
      "text/plain": [
       "<Figure size 640x480 with 1 Axes>"
      ]
     },
     "metadata": {},
     "output_type": "display_data"
    }
   ],
   "source": [
    "# Start the plot at epoch 10\n",
    "history_df.loc[10:, ['loss', 'val_loss']].plot()\n",
    "print(\"Minimum Validation Loss: {:0.4f}\".format(history_df['val_loss'].min()));"
   ]
  },
  {
   "cell_type": "markdown",
   "id": "f98f6fd0",
   "metadata": {
    "papermill": {
     "duration": 0.007287,
     "end_time": "2023-06-30T17:07:01.677789",
     "exception": false,
     "start_time": "2023-06-30T17:07:01.670502",
     "status": "completed"
    },
    "tags": []
   },
   "source": [
    "# 1) Evaluate Baseline\n",
    "\n",
    "What do you think? Would you say this model is underfitting, overfitting, just right?"
   ]
  },
  {
   "cell_type": "code",
   "execution_count": 5,
   "id": "6f8e623f",
   "metadata": {
    "execution": {
     "iopub.execute_input": "2023-06-30T17:07:01.694571Z",
     "iopub.status.busy": "2023-06-30T17:07:01.694210Z",
     "iopub.status.idle": "2023-06-30T17:07:01.703476Z",
     "shell.execute_reply": "2023-06-30T17:07:01.702439Z"
    },
    "papermill": {
     "duration": 0.020303,
     "end_time": "2023-06-30T17:07:01.705800",
     "exception": false,
     "start_time": "2023-06-30T17:07:01.685497",
     "status": "completed"
    },
    "tags": []
   },
   "outputs": [
    {
     "data": {
      "application/javascript": [
       "parent.postMessage({\"jupyterEvent\": \"custom.exercise_interaction\", \"data\": {\"outcomeType\": 1, \"valueTowardsCompletion\": 0.25, \"interactionType\": 1, \"questionType\": 4, \"questionId\": \"1_Q1\", \"learnToolsVersion\": \"0.3.4\", \"failureMessage\": \"\", \"exceptionClass\": \"\", \"trace\": \"\"}}, \"*\")"
      ],
      "text/plain": [
       "<IPython.core.display.Javascript object>"
      ]
     },
     "metadata": {},
     "output_type": "display_data"
    },
    {
     "data": {
      "text/markdown": [
       "<span style=\"color:#33cc33\">Correct:</span> \n",
       "\n",
       "The gap between these curves is quite small and the validation loss never increases, so it's more likely that the network is underfitting than overfitting. It would be worth experimenting with more capacity to see if that's the case."
      ],
      "text/plain": [
       "Correct: \n",
       "\n",
       "The gap between these curves is quite small and the validation loss never increases, so it's more likely that the network is underfitting than overfitting. It would be worth experimenting with more capacity to see if that's the case."
      ]
     },
     "metadata": {},
     "output_type": "display_data"
    }
   ],
   "source": [
    "# View the solution (Run this cell to receive credit!)\n",
    "q_1.check()"
   ]
  },
  {
   "cell_type": "markdown",
   "id": "80a69164",
   "metadata": {
    "papermill": {
     "duration": 0.007488,
     "end_time": "2023-06-30T17:07:01.721282",
     "exception": false,
     "start_time": "2023-06-30T17:07:01.713794",
     "status": "completed"
    },
    "tags": []
   },
   "source": [
    "Now let's add some capacity to our network. We'll add three hidden layers with 128 units each. Run the next cell to train the network and see the learning curves."
   ]
  },
  {
   "cell_type": "code",
   "execution_count": 6,
   "id": "3cb019ca",
   "metadata": {
    "execution": {
     "iopub.execute_input": "2023-06-30T17:07:01.738184Z",
     "iopub.status.busy": "2023-06-30T17:07:01.737830Z",
     "iopub.status.idle": "2023-06-30T17:07:15.767728Z",
     "shell.execute_reply": "2023-06-30T17:07:15.766681Z"
    },
    "papermill": {
     "duration": 14.041193,
     "end_time": "2023-06-30T17:07:15.770155",
     "exception": false,
     "start_time": "2023-06-30T17:07:01.728962",
     "status": "completed"
    },
    "tags": []
   },
   "outputs": [
    {
     "name": "stdout",
     "output_type": "stream",
     "text": [
      "Epoch 1/50\n",
      "49/49 [==============================] - 2s 7ms/step - loss: 0.2521 - val_loss: 0.2075\n",
      "Epoch 2/50\n",
      "49/49 [==============================] - 0s 5ms/step - loss: 0.2025 - val_loss: 0.1999\n",
      "Epoch 3/50\n",
      "49/49 [==============================] - 0s 4ms/step - loss: 0.1974 - val_loss: 0.1984\n",
      "Epoch 4/50\n",
      "49/49 [==============================] - 0s 5ms/step - loss: 0.1940 - val_loss: 0.1969\n",
      "Epoch 5/50\n",
      "49/49 [==============================] - 0s 4ms/step - loss: 0.1920 - val_loss: 0.1956\n",
      "Epoch 6/50\n",
      "49/49 [==============================] - 0s 4ms/step - loss: 0.1905 - val_loss: 0.1980\n",
      "Epoch 7/50\n",
      "49/49 [==============================] - 0s 4ms/step - loss: 0.1893 - val_loss: 0.1949\n",
      "Epoch 8/50\n",
      "49/49 [==============================] - 0s 4ms/step - loss: 0.1882 - val_loss: 0.1962\n",
      "Epoch 9/50\n",
      "49/49 [==============================] - 0s 5ms/step - loss: 0.1872 - val_loss: 0.1944\n",
      "Epoch 10/50\n",
      "49/49 [==============================] - 0s 4ms/step - loss: 0.1868 - val_loss: 0.1958\n",
      "Epoch 11/50\n",
      "49/49 [==============================] - 0s 5ms/step - loss: 0.1857 - val_loss: 0.1952\n",
      "Epoch 12/50\n",
      "49/49 [==============================] - 0s 5ms/step - loss: 0.1851 - val_loss: 0.1952\n",
      "Epoch 13/50\n",
      "49/49 [==============================] - 0s 5ms/step - loss: 0.1841 - val_loss: 0.1955\n",
      "Epoch 14/50\n",
      "49/49 [==============================] - 0s 5ms/step - loss: 0.1837 - val_loss: 0.1949\n",
      "Epoch 15/50\n",
      "49/49 [==============================] - 0s 4ms/step - loss: 0.1828 - val_loss: 0.1957\n",
      "Epoch 16/50\n",
      "49/49 [==============================] - 0s 5ms/step - loss: 0.1823 - val_loss: 0.1955\n",
      "Epoch 17/50\n",
      "49/49 [==============================] - 0s 5ms/step - loss: 0.1821 - val_loss: 0.1956\n",
      "Epoch 18/50\n",
      "49/49 [==============================] - 0s 4ms/step - loss: 0.1810 - val_loss: 0.1966\n",
      "Epoch 19/50\n",
      "49/49 [==============================] - 0s 5ms/step - loss: 0.1811 - val_loss: 0.1964\n",
      "Epoch 20/50\n",
      "49/49 [==============================] - 0s 4ms/step - loss: 0.1801 - val_loss: 0.1961\n",
      "Epoch 21/50\n",
      "49/49 [==============================] - 0s 5ms/step - loss: 0.1795 - val_loss: 0.1986\n",
      "Epoch 22/50\n",
      "49/49 [==============================] - 0s 7ms/step - loss: 0.1788 - val_loss: 0.1964\n",
      "Epoch 23/50\n",
      "49/49 [==============================] - 0s 5ms/step - loss: 0.1788 - val_loss: 0.1968\n",
      "Epoch 24/50\n",
      "49/49 [==============================] - 0s 5ms/step - loss: 0.1785 - val_loss: 0.1972\n",
      "Epoch 25/50\n",
      "49/49 [==============================] - 0s 5ms/step - loss: 0.1774 - val_loss: 0.1967\n",
      "Epoch 26/50\n",
      "49/49 [==============================] - 0s 4ms/step - loss: 0.1771 - val_loss: 0.1972\n",
      "Epoch 27/50\n",
      "49/49 [==============================] - 0s 4ms/step - loss: 0.1770 - val_loss: 0.1962\n",
      "Epoch 28/50\n",
      "49/49 [==============================] - 0s 4ms/step - loss: 0.1764 - val_loss: 0.1981\n",
      "Epoch 29/50\n",
      "49/49 [==============================] - 0s 4ms/step - loss: 0.1753 - val_loss: 0.1974\n",
      "Epoch 30/50\n",
      "49/49 [==============================] - 0s 4ms/step - loss: 0.1749 - val_loss: 0.1976\n",
      "Epoch 31/50\n",
      "49/49 [==============================] - 0s 5ms/step - loss: 0.1746 - val_loss: 0.1976\n",
      "Epoch 32/50\n",
      "49/49 [==============================] - 0s 4ms/step - loss: 0.1741 - val_loss: 0.1983\n",
      "Epoch 33/50\n",
      "49/49 [==============================] - 0s 5ms/step - loss: 0.1733 - val_loss: 0.1986\n",
      "Epoch 34/50\n",
      "49/49 [==============================] - 0s 4ms/step - loss: 0.1732 - val_loss: 0.1977\n",
      "Epoch 35/50\n",
      "49/49 [==============================] - 0s 5ms/step - loss: 0.1719 - val_loss: 0.1999\n",
      "Epoch 36/50\n",
      "49/49 [==============================] - 0s 5ms/step - loss: 0.1719 - val_loss: 0.1989\n",
      "Epoch 37/50\n",
      "49/49 [==============================] - 0s 5ms/step - loss: 0.1715 - val_loss: 0.1985\n",
      "Epoch 38/50\n",
      "49/49 [==============================] - 0s 4ms/step - loss: 0.1707 - val_loss: 0.1995\n",
      "Epoch 39/50\n",
      "49/49 [==============================] - 0s 4ms/step - loss: 0.1707 - val_loss: 0.1998\n",
      "Epoch 40/50\n",
      "49/49 [==============================] - 0s 4ms/step - loss: 0.1704 - val_loss: 0.1993\n",
      "Epoch 41/50\n",
      "49/49 [==============================] - 0s 5ms/step - loss: 0.1695 - val_loss: 0.2004\n",
      "Epoch 42/50\n",
      "49/49 [==============================] - 0s 5ms/step - loss: 0.1689 - val_loss: 0.2000\n",
      "Epoch 43/50\n",
      "49/49 [==============================] - 0s 5ms/step - loss: 0.1684 - val_loss: 0.2022\n",
      "Epoch 44/50\n",
      "49/49 [==============================] - 0s 5ms/step - loss: 0.1685 - val_loss: 0.2007\n",
      "Epoch 45/50\n",
      "49/49 [==============================] - 0s 5ms/step - loss: 0.1676 - val_loss: 0.2007\n",
      "Epoch 46/50\n",
      "49/49 [==============================] - 0s 5ms/step - loss: 0.1669 - val_loss: 0.1999\n",
      "Epoch 47/50\n",
      "49/49 [==============================] - 0s 5ms/step - loss: 0.1668 - val_loss: 0.2013\n",
      "Epoch 48/50\n",
      "49/49 [==============================] - 0s 4ms/step - loss: 0.1661 - val_loss: 0.2026\n",
      "Epoch 49/50\n",
      "49/49 [==============================] - 0s 4ms/step - loss: 0.1656 - val_loss: 0.2018\n",
      "Epoch 50/50\n",
      "49/49 [==============================] - 0s 4ms/step - loss: 0.1656 - val_loss: 0.2038\n",
      "Minimum Validation Loss: 0.1944\n"
     ]
    },
    {
     "data": {
      "image/png": "[encoded data removed]",
      "text/plain": [
       "<Figure size 640x480 with 1 Axes>"
      ]
     },
     "metadata": {},
     "output_type": "display_data"
    }
   ],
   "source": [
    "model = keras.Sequential([\n",
    "    layers.Dense(128, activation='relu', input_shape=input_shape),\n",
    "    layers.Dense(64, activation='relu'),\n",
    "    layers.Dense(1)\n",
    "])\n",
    "model.compile(\n",
    "    optimizer='adam',\n",
    "    loss='mae',\n",
    ")\n",
    "history = model.fit(\n",
    "    X_train, y_train,\n",
    "    validation_data=(X_valid, y_valid),\n",
    "    batch_size=512,\n",
    "    epochs=50,\n",
    ")\n",
    "history_df = pd.DataFrame(history.history)\n",
    "history_df.loc[:, ['loss', 'val_loss']].plot()\n",
    "print(\"Minimum Validation Loss: {:0.4f}\".format(history_df['val_loss'].min()));"
   ]
  },
  {
   "cell_type": "markdown",
   "id": "3430816f",
   "metadata": {
    "papermill": {
     "duration": 0.036924,
     "end_time": "2023-06-30T17:07:15.841105",
     "exception": false,
     "start_time": "2023-06-30T17:07:15.804181",
     "status": "completed"
    },
    "tags": []
   },
   "source": [
    "# 2) Add Capacity\n",
    "\n",
    "What is your evaluation of these curves? Underfitting, overfitting, just right?"
   ]
  },
  {
   "cell_type": "code",
   "execution_count": 7,
   "id": "3a1a7b77",
   "metadata": {
    "execution": {
     "iopub.execute_input": "2023-06-30T17:07:15.906256Z",
     "iopub.status.busy": "2023-06-30T17:07:15.905057Z",
     "iopub.status.idle": "2023-06-30T17:07:15.914686Z",
     "shell.execute_reply": "2023-06-30T17:07:15.913569Z"
    },
    "papermill": {
     "duration": 0.04573,
     "end_time": "2023-06-30T17:07:15.918304",
     "exception": false,
     "start_time": "2023-06-30T17:07:15.872574",
     "status": "completed"
    },
    "tags": []
   },
   "outputs": [
    {
     "data": {
      "application/javascript": [
       "parent.postMessage({\"jupyterEvent\": \"custom.exercise_interaction\", \"data\": {\"outcomeType\": 1, \"valueTowardsCompletion\": 0.25, \"interactionType\": 1, \"questionType\": 4, \"questionId\": \"2_Q2\", \"learnToolsVersion\": \"0.3.4\", \"failureMessage\": \"\", \"exceptionClass\": \"\", \"trace\": \"\"}}, \"*\")"
      ],
      "text/plain": [
       "<IPython.core.display.Javascript object>"
      ]
     },
     "metadata": {},
     "output_type": "display_data"
    },
    {
     "data": {
      "text/markdown": [
       "<span style=\"color:#33cc33\">Correct:</span> \n",
       "\n",
       "Now the validation loss begins to rise very early, while the training loss continues to decrease. This indicates that the network has begun to overfit. At this point, we would need to try something to prevent it, either by reducing the number of units or through a method like early stopping. (We'll see another in the next lesson!)"
      ],
      "text/plain": [
       "Correct: \n",
       "\n",
       "Now the validation loss begins to rise very early, while the training loss continues to decrease. This indicates that the network has begun to overfit. At this point, we would need to try something to prevent it, either by reducing the number of units or through a method like early stopping. (We'll see another in the next lesson!)"
      ]
     },
     "metadata": {},
     "output_type": "display_data"
    }
   ],
   "source": [
    "# View the solution (Run this cell to receive credit!)\n",
    "q_2.check()"
   ]
  },
  {
   "cell_type": "markdown",
   "id": "4ab26258",
   "metadata": {
    "papermill": {
     "duration": 0.031149,
     "end_time": "2023-06-30T17:07:15.981970",
     "exception": false,
     "start_time": "2023-06-30T17:07:15.950821",
     "status": "completed"
    },
    "tags": []
   },
   "source": [
    "# 3) Define Early Stopping Callback\n",
    "\n",
    "Now define an early stopping callback that waits 5 epochs (`patience'`) for a change in validation loss of at least `0.001` (`min_delta`) and keeps the weights with the best loss (`restore_best_weights`)."
   ]
  },
  {
   "cell_type": "code",
   "execution_count": 8,
   "id": "d3573ed6",
   "metadata": {
    "execution": {
     "iopub.execute_input": "2023-06-30T17:07:16.047225Z",
     "iopub.status.busy": "2023-06-30T17:07:16.046827Z",
     "iopub.status.idle": "2023-06-30T17:07:16.058773Z",
     "shell.execute_reply": "2023-06-30T17:07:16.057708Z"
    },
    "lines_to_next_cell": 0,
    "papermill": {
     "duration": 0.046587,
     "end_time": "2023-06-30T17:07:16.061097",
     "exception": false,
     "start_time": "2023-06-30T17:07:16.014510",
     "status": "completed"
    },
    "tags": []
   },
   "outputs": [
    {
     "data": {
      "application/javascript": [
       "parent.postMessage({\"jupyterEvent\": \"custom.exercise_interaction\", \"data\": {\"outcomeType\": 2, \"failureMessage\": \"The `patience` argument should be 5.\", \"interactionType\": 1, \"questionType\": 2, \"questionId\": \"3_Q3\", \"learnToolsVersion\": \"0.3.4\", \"valueTowardsCompletion\": 0.0, \"exceptionClass\": \"\", \"trace\": \"\"}}, \"*\")"
      ],
      "text/plain": [
       "<IPython.core.display.Javascript object>"
      ]
     },
     "metadata": {},
     "output_type": "display_data"
    },
    {
     "data": {
      "text/markdown": [
       "<span style=\"color:#cc3333\">Incorrect:</span> The `patience` argument should be 5."
      ],
      "text/plain": [
       "Incorrect: The `patience` argument should be 5."
      ]
     },
     "metadata": {},
     "output_type": "display_data"
    }
   ],
   "source": [
    "from tensorflow.keras import callbacks\n",
    "from tensorflow.keras.callbacks import EarlyStopping\n",
    "\n",
    "\n",
    "# YOUR CODE HERE: define an early stopping callback\n",
    "early_stopping = EarlyStopping(\n",
    "patience = 1,\n",
    "    min_delta = 0.001,\n",
    "    restore_best_weights = True,\n",
    ")\n",
    "# Check your answer\n",
    "q_3.check()"
   ]
  },
  {
   "cell_type": "code",
   "execution_count": 9,
   "id": "c2f8720c",
   "metadata": {
    "execution": {
     "iopub.execute_input": "2023-06-30T17:07:16.127818Z",
     "iopub.status.busy": "2023-06-30T17:07:16.126806Z",
     "iopub.status.idle": "2023-06-30T17:07:16.131685Z",
     "shell.execute_reply": "2023-06-30T17:07:16.130756Z"
    },
    "papermill": {
     "duration": 0.040806,
     "end_time": "2023-06-30T17:07:16.134028",
     "exception": false,
     "start_time": "2023-06-30T17:07:16.093222",
     "status": "completed"
    },
    "tags": []
   },
   "outputs": [],
   "source": [
    "# Lines below will give you a hint or solution code\n",
    "#q_3.hint()\n",
    "#q_3.solution()"
   ]
  },
  {
   "cell_type": "markdown",
   "id": "2f00d8ab",
   "metadata": {
    "papermill": {
     "duration": 0.03118,
     "end_time": "2023-06-30T17:07:16.197267",
     "exception": false,
     "start_time": "2023-06-30T17:07:16.166087",
     "status": "completed"
    },
    "tags": []
   },
   "source": [
    "Now run this cell to train the model and get the learning curves. Notice the `callbacks` argument in `model.fit`."
   ]
  },
  {
   "cell_type": "code",
   "execution_count": 10,
   "id": "35d95ef3",
   "metadata": {
    "execution": {
     "iopub.execute_input": "2023-06-30T17:07:16.265357Z",
     "iopub.status.busy": "2023-06-30T17:07:16.264404Z",
     "iopub.status.idle": "2023-06-30T17:07:20.014590Z",
     "shell.execute_reply": "2023-06-30T17:07:20.013654Z"
    },
    "papermill": {
     "duration": 3.786408,
     "end_time": "2023-06-30T17:07:20.016768",
     "exception": false,
     "start_time": "2023-06-30T17:07:16.230360",
     "status": "completed"
    },
    "tags": []
   },
   "outputs": [
    {
     "name": "stdout",
     "output_type": "stream",
     "text": [
      "Epoch 1/50\n",
      "49/49 [==============================] - 2s 7ms/step - loss: 0.2261 - val_loss: 0.2056\n",
      "Epoch 2/50\n",
      "49/49 [==============================] - 0s 4ms/step - loss: 0.1999 - val_loss: 0.2006\n",
      "Epoch 3/50\n",
      "49/49 [==============================] - 0s 6ms/step - loss: 0.1955 - val_loss: 0.1990\n",
      "Epoch 4/50\n",
      "49/49 [==============================] - 0s 7ms/step - loss: 0.1932 - val_loss: 0.1976\n",
      "Epoch 5/50\n",
      "49/49 [==============================] - 0s 5ms/step - loss: 0.1913 - val_loss: 0.1988\n",
      "Minimum Validation Loss: 0.1976\n"
     ]
    },
    {
     "data": {
      "image/png": "[encoded data removed]",
      "text/plain": [
       "<Figure size 640x480 with 1 Axes>"
      ]
     },
     "metadata": {},
     "output_type": "display_data"
    }
   ],
   "source": [
    "model = keras.Sequential([\n",
    "    layers.Dense(128, activation='relu', input_shape=input_shape),\n",
    "    layers.Dense(64, activation='relu'),    \n",
    "    layers.Dense(1)\n",
    "])\n",
    "model.compile(\n",
    "    optimizer='adam',\n",
    "    loss='mae',\n",
    ")\n",
    "history = model.fit(\n",
    "    X_train, y_train,\n",
    "    validation_data=(X_valid, y_valid),\n",
    "    batch_size=512,\n",
    "    epochs=50,\n",
    "    callbacks=[early_stopping]\n",
    ")\n",
    "history_df = pd.DataFrame(history.history)\n",
    "history_df.loc[:, ['loss', 'val_loss']].plot()\n",
    "print(\"Minimum Validation Loss: {:0.4f}\".format(history_df['val_loss'].min()));"
   ]
  },
  {
   "cell_type": "markdown",
   "id": "b47e856b",
   "metadata": {
    "papermill": {
     "duration": 0.033582,
     "end_time": "2023-06-30T17:07:20.085359",
     "exception": false,
     "start_time": "2023-06-30T17:07:20.051777",
     "status": "completed"
    },
    "tags": []
   },
   "source": [
    "# 4) Train and Interpret\n",
    "\n",
    "Was this an improvement compared to training without early stopping?"
   ]
  },
  {
   "cell_type": "code",
   "execution_count": 11,
   "id": "8a4d1d3b",
   "metadata": {
    "execution": {
     "iopub.execute_input": "2023-06-30T17:07:20.159186Z",
     "iopub.status.busy": "2023-06-30T17:07:20.158162Z",
     "iopub.status.idle": "2023-06-30T17:07:20.167231Z",
     "shell.execute_reply": "2023-06-30T17:07:20.166054Z"
    },
    "papermill": {
     "duration": 0.05042,
     "end_time": "2023-06-30T17:07:20.171501",
     "exception": false,
     "start_time": "2023-06-30T17:07:20.121081",
     "status": "completed"
    },
    "tags": []
   },
   "outputs": [
    {
     "data": {
      "application/javascript": [
       "parent.postMessage({\"jupyterEvent\": \"custom.exercise_interaction\", \"data\": {\"outcomeType\": 1, \"valueTowardsCompletion\": 0.25, \"interactionType\": 1, \"questionType\": 4, \"questionId\": \"4_Q4\", \"learnToolsVersion\": \"0.3.4\", \"failureMessage\": \"\", \"exceptionClass\": \"\", \"trace\": \"\"}}, \"*\")"
      ],
      "text/plain": [
       "<IPython.core.display.Javascript object>"
      ]
     },
     "metadata": {},
     "output_type": "display_data"
    },
    {
     "data": {
      "text/markdown": [
       "<span style=\"color:#33cc33\">Correct:</span> \n",
       "\n",
       "The early stopping callback did stop the training once the network began overfitting. Moreover, by including `restore_best_weights` we still get to keep the model where validation loss was lowest."
      ],
      "text/plain": [
       "Correct: \n",
       "\n",
       "The early stopping callback did stop the training once the network began overfitting. Moreover, by including `restore_best_weights` we still get to keep the model where validation loss was lowest."
      ]
     },
     "metadata": {},
     "output_type": "display_data"
    }
   ],
   "source": [
    "# View the solution (Run this cell to receive credit!)\n",
    "q_4.check()"
   ]
  },
  {
   "cell_type": "markdown",
   "id": "73f5c9c0",
   "metadata": {
    "papermill": {
     "duration": 0.036455,
     "end_time": "2023-06-30T17:07:20.243816",
     "exception": false,
     "start_time": "2023-06-30T17:07:20.207361",
     "status": "completed"
    },
    "tags": []
   },
   "source": [
    "If you like, try experimenting with `patience` and `min_delta` to see what difference it might make.\n",
    "\n",
    "# Keep Going #\n",
    "\n",
    "Move on to [**learn about a couple of special layers**](https://www.kaggle.com/ryanholbrook/dropout-and-batch-normalization): batch normalization and dropout."
   ]
  },
  {
   "cell_type": "markdown",
   "id": "0fe4908e",
   "metadata": {
    "papermill": {
     "duration": 0.037175,
     "end_time": "2023-06-30T17:07:20.317976",
     "exception": false,
     "start_time": "2023-06-30T17:07:20.280801",
     "status": "completed"
    },
    "tags": []
   },
   "source": [
    "---\n",
    "\n",
    "\n",
    "\n",
    "\n",
    "*Have questions or comments? Visit the [course discussion forum](https://www.kaggle.com/learn/intro-to-deep-learning/discussion) to chat with other learners.*"
   ]
  }
 ],
 "metadata": {
  "kernelspec": {
   "display_name": "Python 3",
   "language": "python",
   "name": "python3"
  },
  "language_info": {
   "codemirror_mode": {
    "name": "ipython",
    "version": 3
   },
   "file_extension": ".py",
   "mimetype": "text/x-python",
   "name": "python",
   "nbconvert_exporter": "python",
   "pygments_lexer": "ipython3",
   "version": "3.10.10"
  },
  "papermill": {
   "default_parameters": {},
   "duration": 61.96795,
   "end_time": "2023-06-30T17:07:23.772890",
   "environment_variables": {},
   "exception": null,
   "input_path": "__notebook__.ipynb",
   "output_path": "__notebook__.ipynb",
   "parameters": {},
   "start_time": "2023-06-30T17:06:21.804940",
   "version": "2.4.0"
  }
 },
 "nbformat": 4,
 "nbformat_minor": 5
}
