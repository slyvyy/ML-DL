{
 "cells": [
  {
   "cell_type": "markdown",
   "id": "13aad57d",
   "metadata": {
    "papermill": {
     "duration": 0.007264,
     "end_time": "2023-07-02T21:11:08.557297",
     "exception": false,
     "start_time": "2023-07-02T21:11:08.550033",
     "status": "completed"
    },
    "tags": []
   },
   "source": [
    "**This notebook is an exercise in the [Intermediate Machine Learning](https://www.kaggle.com/learn/intermediate-machine-learning) course.  You can reference the tutorial at [this link](https://www.kaggle.com/alexisbcook/xgboost).**\n",
    "\n",
    "---\n"
   ]
  },
  {
   "cell_type": "markdown",
   "id": "258839c0",
   "metadata": {
    "papermill": {
     "duration": 0.005999,
     "end_time": "2023-07-02T21:11:08.569622",
     "exception": false,
     "start_time": "2023-07-02T21:11:08.563623",
     "status": "completed"
    },
    "tags": []
   },
   "source": [
    "In this exercise, you will use your new knowledge to train a model with **gradient boosting**.\n",
    "\n",
    "# Setup\n",
    "\n",
    "The questions below will give you feedback on your work. Run the following cell to set up the feedback system."
   ]
  },
  {
   "cell_type": "code",
   "execution_count": 1,
   "id": "c71da7c3",
   "metadata": {
    "execution": {
     "iopub.execute_input": "2023-07-02T21:11:08.584381Z",
     "iopub.status.busy": "2023-07-02T21:11:08.583300Z",
     "iopub.status.idle": "2023-07-02T21:11:11.137736Z",
     "shell.execute_reply": "2023-07-02T21:11:11.136840Z"
    },
    "papermill": {
     "duration": 2.565924,
     "end_time": "2023-07-02T21:11:11.141920",
     "exception": false,
     "start_time": "2023-07-02T21:11:08.575996",
     "status": "completed"
    },
    "tags": []
   },
   "outputs": [
    {
     "name": "stdout",
     "output_type": "stream",
     "text": [
      "Setup Complete\n"
     ]
    }
   ],
   "source": [
    "# Set up code checking\n",
    "import os\n",
    "if not os.path.exists(\"../input/train.csv\"):\n",
    "    os.symlink(\"../input/home-data-for-ml-course/train.csv\", \"../input/train.csv\")  \n",
    "    os.symlink(\"../input/home-data-for-ml-course/test.csv\", \"../input/test.csv\") \n",
    "from learntools.core import binder\n",
    "binder.bind(globals())\n",
    "from learntools.ml_intermediate.ex6 import *\n",
    "print(\"Setup Complete\")"
   ]
  },
  {
   "cell_type": "markdown",
   "id": "c959da46",
   "metadata": {
    "papermill": {
     "duration": 0.006369,
     "end_time": "2023-07-02T21:11:11.155323",
     "exception": false,
     "start_time": "2023-07-02T21:11:11.148954",
     "status": "completed"
    },
    "tags": []
   },
   "source": [
    "You will work with the [Housing Prices Competition for Kaggle Learn Users](https://www.kaggle.com/c/home-data-for-ml-course) dataset from the previous exercise. \n",
    "\n",
    "![Ames Housing dataset image](https://storage.googleapis.com/kaggle-media/learn/images/lTJVG4e.png)\n",
    "\n",
    "Run the next code cell without changes to load the training and validation sets in `X_train`, `X_valid`, `y_train`, and `y_valid`.  The test set is loaded in `X_test`."
   ]
  },
  {
   "cell_type": "code",
   "execution_count": 2,
   "id": "1cb48fc1",
   "metadata": {
    "execution": {
     "iopub.execute_input": "2023-07-02T21:11:11.169857Z",
     "iopub.status.busy": "2023-07-02T21:11:11.169184Z",
     "iopub.status.idle": "2023-07-02T21:11:11.364511Z",
     "shell.execute_reply": "2023-07-02T21:11:11.363562Z"
    },
    "papermill": {
     "duration": 0.205686,
     "end_time": "2023-07-02T21:11:11.367255",
     "exception": false,
     "start_time": "2023-07-02T21:11:11.161569",
     "status": "completed"
    },
    "tags": []
   },
   "outputs": [],
   "source": [
    "import pandas as pd\n",
    "from sklearn.model_selection import train_test_split\n",
    "\n",
    "# Read the data\n",
    "X = pd.read_csv('../input/train.csv', index_col='Id')\n",
    "X_test_full = pd.read_csv('../input/test.csv', index_col='Id')\n",
    "\n",
    "# Remove rows with missing target, separate target from predictors\n",
    "X.dropna(axis=0, subset=['SalePrice'], inplace=True)\n",
    "y = X.SalePrice              \n",
    "X.drop(['SalePrice'], axis=1, inplace=True)\n",
    "\n",
    "# Break off validation set from training data\n",
    "X_train_full, X_valid_full, y_train, y_valid = train_test_split(X, y, train_size=0.8, test_size=0.2,\n",
    "                                                                random_state=0)\n",
    "\n",
    "# \"Cardinality\" means the number of unique values in a column\n",
    "# Select categorical columns with relatively low cardinality (convenient but arbitrary)\n",
    "low_cardinality_cols = [cname for cname in X_train_full.columns if X_train_full[cname].nunique() < 10 and \n",
    "                        X_train_full[cname].dtype == \"object\"]\n",
    "\n",
    "# Select numeric columns\n",
    "numeric_cols = [cname for cname in X_train_full.columns if X_train_full[cname].dtype in ['int64', 'float64']]\n",
    "\n",
    "# Keep selected columns only\n",
    "my_cols = low_cardinality_cols + numeric_cols\n",
    "X_train = X_train_full[my_cols].copy()\n",
    "X_valid = X_valid_full[my_cols].copy()\n",
    "X_test = X_test_full[my_cols].copy()\n",
    "\n",
    "# One-hot encode the data (to shorten the code, we use pandas)\n",
    "X_train = pd.get_dummies(X_train)\n",
    "X_valid = pd.get_dummies(X_valid)\n",
    "X_test = pd.get_dummies(X_test)\n",
    "X_train, X_valid = X_train.align(X_valid, join='left', axis=1)\n",
    "X_train, X_test = X_train.align(X_test, join='left', axis=1)"
   ]
  },
  {
   "cell_type": "markdown",
   "id": "66427e18",
   "metadata": {
    "papermill": {
     "duration": 0.007556,
     "end_time": "2023-07-02T21:11:11.381425",
     "exception": false,
     "start_time": "2023-07-02T21:11:11.373869",
     "status": "completed"
    },
    "tags": []
   },
   "source": [
    "# Step 1: Build model\n",
    "\n",
    "### Part A\n",
    "\n",
    "In this step, you'll build and train your first model with gradient boosting.\n",
    "\n",
    "- Begin by setting `my_model_1` to an XGBoost model.  Use the [XGBRegressor](https://xgboost.readthedocs.io/en/latest/python/python_api.html#xgboost.XGBRegressor) class, and set the random seed to 0 (`random_state=0`).  **Leave all other parameters as default.**\n",
    "- Then, fit the model to the training data in `X_train` and `y_train`."
   ]
  },
  {
   "cell_type": "code",
   "execution_count": 3,
   "id": "edc87ae4",
   "metadata": {
    "execution": {
     "iopub.execute_input": "2023-07-02T21:11:11.396285Z",
     "iopub.status.busy": "2023-07-02T21:11:11.395921Z",
     "iopub.status.idle": "2023-07-02T21:11:12.270776Z",
     "shell.execute_reply": "2023-07-02T21:11:12.269963Z"
    },
    "papermill": {
     "duration": 0.885217,
     "end_time": "2023-07-02T21:11:12.273236",
     "exception": false,
     "start_time": "2023-07-02T21:11:11.388019",
     "status": "completed"
    },
    "tags": []
   },
   "outputs": [
    {
     "data": {
      "application/javascript": [
       "parent.postMessage({\"jupyterEvent\": \"custom.exercise_interaction\", \"data\": {\"outcomeType\": 1, \"valueTowardsCompletion\": 0.5, \"interactionType\": 1, \"questionType\": 2, \"questionId\": \"1.1_Model1A\", \"learnToolsVersion\": \"0.3.4\", \"failureMessage\": \"\", \"exceptionClass\": \"\", \"trace\": \"\"}}, \"*\")"
      ],
      "text/plain": [
       "<IPython.core.display.Javascript object>"
      ]
     },
     "metadata": {},
     "output_type": "display_data"
    },
    {
     "data": {
      "text/markdown": [
       "<span style=\"color:#33cc33\">Correct</span>"
      ],
      "text/plain": [
       "Correct"
      ]
     },
     "metadata": {},
     "output_type": "display_data"
    }
   ],
   "source": [
    "from xgboost import XGBRegressor\n",
    "\n",
    "# Define the model\n",
    "my_model_1 =XGBRegressor(random_state = 0) # Your code here\n",
    "\n",
    "# Fit the model\n",
    "my_model_1.fit(X_train,y_train)\n",
    "\n",
    "# Check your answer\n",
    "step_1.a.check()"
   ]
  },
  {
   "cell_type": "code",
   "execution_count": 4,
   "id": "44cf7773",
   "metadata": {
    "execution": {
     "iopub.execute_input": "2023-07-02T21:11:12.288249Z",
     "iopub.status.busy": "2023-07-02T21:11:12.287865Z",
     "iopub.status.idle": "2023-07-02T21:11:12.291715Z",
     "shell.execute_reply": "2023-07-02T21:11:12.290889Z"
    },
    "papermill": {
     "duration": 0.013624,
     "end_time": "2023-07-02T21:11:12.293802",
     "exception": false,
     "start_time": "2023-07-02T21:11:12.280178",
     "status": "completed"
    },
    "tags": []
   },
   "outputs": [],
   "source": [
    "# Lines below will give you a hint or solution code\n",
    "#step_1.a.hint()\n",
    "#step_1.a.solution()"
   ]
  },
  {
   "cell_type": "markdown",
   "id": "80d8a6cf",
   "metadata": {
    "papermill": {
     "duration": 0.006468,
     "end_time": "2023-07-02T21:11:12.306879",
     "exception": false,
     "start_time": "2023-07-02T21:11:12.300411",
     "status": "completed"
    },
    "tags": []
   },
   "source": [
    "### Part B\n",
    "\n",
    "Set `predictions_1` to the model's predictions for the validation data.  Recall that the validation features are stored in `X_valid`."
   ]
  },
  {
   "cell_type": "code",
   "execution_count": 5,
   "id": "c2c7933b",
   "metadata": {
    "execution": {
     "iopub.execute_input": "2023-07-02T21:11:12.322297Z",
     "iopub.status.busy": "2023-07-02T21:11:12.321880Z",
     "iopub.status.idle": "2023-07-02T21:11:12.349300Z",
     "shell.execute_reply": "2023-07-02T21:11:12.348420Z"
    },
    "papermill": {
     "duration": 0.038337,
     "end_time": "2023-07-02T21:11:12.351918",
     "exception": false,
     "start_time": "2023-07-02T21:11:12.313581",
     "status": "completed"
    },
    "tags": []
   },
   "outputs": [
    {
     "data": {
      "application/javascript": [
       "parent.postMessage({\"jupyterEvent\": \"custom.exercise_interaction\", \"data\": {\"outcomeType\": 1, \"valueTowardsCompletion\": 0.5, \"interactionType\": 1, \"questionType\": 2, \"questionId\": \"1.2_Model1B\", \"learnToolsVersion\": \"0.3.4\", \"failureMessage\": \"\", \"exceptionClass\": \"\", \"trace\": \"\"}}, \"*\")"
      ],
      "text/plain": [
       "<IPython.core.display.Javascript object>"
      ]
     },
     "metadata": {},
     "output_type": "display_data"
    },
    {
     "data": {
      "text/markdown": [
       "<span style=\"color:#33cc33\">Correct</span>"
      ],
      "text/plain": [
       "Correct"
      ]
     },
     "metadata": {},
     "output_type": "display_data"
    }
   ],
   "source": [
    "from sklearn.metrics import mean_absolute_error\n",
    "\n",
    "# Get predictions\n",
    "predictions_1 = my_model_1.predict(X_valid) # Your code here\n",
    "\n",
    "# Check your answer\n",
    "step_1.b.check()"
   ]
  },
  {
   "cell_type": "code",
   "execution_count": 6,
   "id": "03296aab",
   "metadata": {
    "execution": {
     "iopub.execute_input": "2023-07-02T21:11:12.367902Z",
     "iopub.status.busy": "2023-07-02T21:11:12.367571Z",
     "iopub.status.idle": "2023-07-02T21:11:12.371624Z",
     "shell.execute_reply": "2023-07-02T21:11:12.370574Z"
    },
    "papermill": {
     "duration": 0.014583,
     "end_time": "2023-07-02T21:11:12.374028",
     "exception": false,
     "start_time": "2023-07-02T21:11:12.359445",
     "status": "completed"
    },
    "tags": []
   },
   "outputs": [],
   "source": [
    "# Lines below will give you a hint or solution code\n",
    "#step_1.b.hint()\n",
    "#step_1.b.solution()"
   ]
  },
  {
   "cell_type": "markdown",
   "id": "af2e53a8",
   "metadata": {
    "papermill": {
     "duration": 0.006781,
     "end_time": "2023-07-02T21:11:12.387604",
     "exception": false,
     "start_time": "2023-07-02T21:11:12.380823",
     "status": "completed"
    },
    "tags": []
   },
   "source": [
    "### Part C\n",
    "\n",
    "Finally, use the `mean_absolute_error()` function to calculate the mean absolute error (MAE) corresponding to the predictions for the validation set.  Recall that the labels for the validation data are stored in `y_valid`."
   ]
  },
  {
   "cell_type": "code",
   "execution_count": 7,
   "id": "e0f3f51e",
   "metadata": {
    "execution": {
     "iopub.execute_input": "2023-07-02T21:11:12.404073Z",
     "iopub.status.busy": "2023-07-02T21:11:12.403157Z",
     "iopub.status.idle": "2023-07-02T21:11:12.414678Z",
     "shell.execute_reply": "2023-07-02T21:11:12.413664Z"
    },
    "papermill": {
     "duration": 0.02201,
     "end_time": "2023-07-02T21:11:12.416755",
     "exception": false,
     "start_time": "2023-07-02T21:11:12.394745",
     "status": "completed"
    },
    "tags": []
   },
   "outputs": [
    {
     "name": "stdout",
     "output_type": "stream",
     "text": [
      "Mean Absolute Error: 17662.736729452055\n"
     ]
    },
    {
     "data": {
      "application/javascript": [
       "parent.postMessage({\"jupyterEvent\": \"custom.exercise_interaction\", \"data\": {\"outcomeType\": 1, \"valueTowardsCompletion\": 0.5, \"interactionType\": 1, \"questionType\": 2, \"questionId\": \"1.3_Model1C\", \"learnToolsVersion\": \"0.3.4\", \"failureMessage\": \"\", \"exceptionClass\": \"\", \"trace\": \"\"}}, \"*\")"
      ],
      "text/plain": [
       "<IPython.core.display.Javascript object>"
      ]
     },
     "metadata": {},
     "output_type": "display_data"
    },
    {
     "data": {
      "text/markdown": [
       "<span style=\"color:#33cc33\">Correct</span>"
      ],
      "text/plain": [
       "Correct"
      ]
     },
     "metadata": {},
     "output_type": "display_data"
    }
   ],
   "source": [
    "# Calculate MAE\n",
    "mae_1 =mean_absolute_error(predictions_1,y_valid) # Your code here\n",
    "\n",
    "# Uncomment to print MAE\n",
    "print(\"Mean Absolute Error:\" , mae_1)\n",
    "\n",
    "# Check your answer\n",
    "step_1.c.check()"
   ]
  },
  {
   "cell_type": "code",
   "execution_count": 8,
   "id": "be8a7a09",
   "metadata": {
    "execution": {
     "iopub.execute_input": "2023-07-02T21:11:12.433058Z",
     "iopub.status.busy": "2023-07-02T21:11:12.432694Z",
     "iopub.status.idle": "2023-07-02T21:11:12.437013Z",
     "shell.execute_reply": "2023-07-02T21:11:12.435976Z"
    },
    "papermill": {
     "duration": 0.015099,
     "end_time": "2023-07-02T21:11:12.439179",
     "exception": false,
     "start_time": "2023-07-02T21:11:12.424080",
     "status": "completed"
    },
    "tags": []
   },
   "outputs": [],
   "source": [
    "# Lines below will give you a hint or solution code\n",
    "#step_1.c.hint()\n",
    "#step_1.c.solution()"
   ]
  },
  {
   "cell_type": "markdown",
   "id": "c8b32164",
   "metadata": {
    "papermill": {
     "duration": 0.007267,
     "end_time": "2023-07-02T21:11:12.454148",
     "exception": false,
     "start_time": "2023-07-02T21:11:12.446881",
     "status": "completed"
    },
    "tags": []
   },
   "source": [
    "# Step 2: Improve the model\n",
    "\n",
    "Now that you've trained a default model as baseline, it's time to tinker with the parameters, to see if you can get better performance!\n",
    "- Begin by setting `my_model_2` to an XGBoost model, using the [XGBRegressor](https://xgboost.readthedocs.io/en/latest/python/python_api.html#xgboost.XGBRegressor) class.  Use what you learned in the previous tutorial to figure out how to change the default parameters (like `n_estimators` and `learning_rate`) to get better results.\n",
    "- Then, fit the model to the training data in `X_train` and `y_train`.\n",
    "- Set `predictions_2` to the model's predictions for the validation data.  Recall that the validation features are stored in `X_valid`.\n",
    "- Finally, use the `mean_absolute_error()` function to calculate the mean absolute error (MAE) corresponding to the predictions on the validation set.  Recall that the labels for the validation data are stored in `y_valid`.\n",
    "\n",
    "In order for this step to be marked correct, your model in `my_model_2` must attain lower MAE than the model in `my_model_1`. "
   ]
  },
  {
   "cell_type": "code",
   "execution_count": 9,
   "id": "25714885",
   "metadata": {
    "execution": {
     "iopub.execute_input": "2023-07-02T21:11:12.472621Z",
     "iopub.status.busy": "2023-07-02T21:11:12.472208Z",
     "iopub.status.idle": "2023-07-02T21:11:14.717514Z",
     "shell.execute_reply": "2023-07-02T21:11:14.716541Z"
    },
    "papermill": {
     "duration": 2.258059,
     "end_time": "2023-07-02T21:11:14.720298",
     "exception": false,
     "start_time": "2023-07-02T21:11:12.462239",
     "status": "completed"
    },
    "tags": []
   },
   "outputs": [
    {
     "name": "stderr",
     "output_type": "stream",
     "text": [
      "/opt/conda/lib/python3.10/site-packages/xgboost/sklearn.py:835: UserWarning: `early_stopping_rounds` in `fit` method is deprecated for better compatibility with scikit-learn, use `early_stopping_rounds` in constructor or`set_params` instead.\n",
      "  warnings.warn(\n"
     ]
    },
    {
     "name": "stdout",
     "output_type": "stream",
     "text": [
      "Mean Absolute Error: 16802.965325342466\n"
     ]
    },
    {
     "data": {
      "application/javascript": [
       "parent.postMessage({\"jupyterEvent\": \"custom.exercise_interaction\", \"data\": {\"outcomeType\": 1, \"valueTowardsCompletion\": 0.5, \"interactionType\": 1, \"questionType\": 2, \"questionId\": \"2_Model2\", \"learnToolsVersion\": \"0.3.4\", \"failureMessage\": \"\", \"exceptionClass\": \"\", \"trace\": \"\"}}, \"*\")"
      ],
      "text/plain": [
       "<IPython.core.display.Javascript object>"
      ]
     },
     "metadata": {},
     "output_type": "display_data"
    },
    {
     "data": {
      "text/markdown": [
       "<span style=\"color:#33cc33\">Correct</span>"
      ],
      "text/plain": [
       "Correct"
      ]
     },
     "metadata": {},
     "output_type": "display_data"
    }
   ],
   "source": [
    "# Define the model\n",
    "my_model_2 =XGBRegressor (n_estimators = 1000,  learning_rate=0.05)# Your code here\n",
    "\n",
    "# Fit the model\n",
    "my_model_2.fit(X_train, y_train, \n",
    "                early_stopping_rounds=5, \n",
    "             eval_set=[(X_valid, y_valid)], \n",
    "             verbose=False)\n",
    "\n",
    "# Get predictions\n",
    "predictions_2 = my_model_2.predict(X_valid) # Your code here\n",
    "\n",
    "# Calculate MAE\n",
    "mae_2 = mean_absolute_error(predictions_2,y_valid)# Your code here\n",
    "\n",
    "# Uncomment to print MAE\n",
    "print(\"Mean Absolute Error:\" , mae_2)\n",
    "# \n",
    "# Check your answer\n",
    "step_2.check()"
   ]
  },
  {
   "cell_type": "code",
   "execution_count": 10,
   "id": "d85a4c19",
   "metadata": {
    "execution": {
     "iopub.execute_input": "2023-07-02T21:11:14.739873Z",
     "iopub.status.busy": "2023-07-02T21:11:14.739479Z",
     "iopub.status.idle": "2023-07-02T21:11:14.743281Z",
     "shell.execute_reply": "2023-07-02T21:11:14.742551Z"
    },
    "papermill": {
     "duration": 0.015645,
     "end_time": "2023-07-02T21:11:14.745283",
     "exception": false,
     "start_time": "2023-07-02T21:11:14.729638",
     "status": "completed"
    },
    "tags": []
   },
   "outputs": [],
   "source": [
    "# Lines below will give you a hint or solution code\n",
    "#step_2.hint()\n",
    "#step_2.solution()"
   ]
  },
  {
   "cell_type": "markdown",
   "id": "ec0b8143",
   "metadata": {
    "papermill": {
     "duration": 0.008004,
     "end_time": "2023-07-02T21:11:14.761669",
     "exception": false,
     "start_time": "2023-07-02T21:11:14.753665",
     "status": "completed"
    },
    "tags": []
   },
   "source": [
    "# Step 3: Break the model\n",
    "\n",
    "In this step, you will create a model that performs worse than the original model in Step 1.  This will help you to develop your intuition for how to set parameters.  You might even find that you accidentally get better performance, which is ultimately a nice problem to have and a valuable learning experience!\n",
    "- Begin by setting `my_model_3` to an XGBoost model, using the [XGBRegressor](https://xgboost.readthedocs.io/en/latest/python/python_api.html#xgboost.XGBRegressor) class.  Use what you learned in the previous tutorial to figure out how to change the default parameters (like `n_estimators` and `learning_rate`) to design a model to get high MAE.\n",
    "- Then, fit the model to the training data in `X_train` and `y_train`.\n",
    "- Set `predictions_3` to the model's predictions for the validation data.  Recall that the validation features are stored in `X_valid`.\n",
    "- Finally, use the `mean_absolute_error()` function to calculate the mean absolute error (MAE) corresponding to the predictions on the validation set.  Recall that the labels for the validation data are stored in `y_valid`.\n",
    "\n",
    "In order for this step to be marked correct, your model in `my_model_3` must attain higher MAE than the model in `my_model_1`. "
   ]
  },
  {
   "cell_type": "code",
   "execution_count": 11,
   "id": "f561951c",
   "metadata": {
    "execution": {
     "iopub.execute_input": "2023-07-02T21:11:14.780347Z",
     "iopub.status.busy": "2023-07-02T21:11:14.779293Z",
     "iopub.status.idle": "2023-07-02T21:11:19.110582Z",
     "shell.execute_reply": "2023-07-02T21:11:19.109617Z"
    },
    "papermill": {
     "duration": 4.343154,
     "end_time": "2023-07-02T21:11:19.113035",
     "exception": false,
     "start_time": "2023-07-02T21:11:14.769881",
     "status": "completed"
    },
    "tags": []
   },
   "outputs": [
    {
     "name": "stdout",
     "output_type": "stream",
     "text": [
      "Mean Absolute Error: 20928.521297089042\n"
     ]
    },
    {
     "data": {
      "application/javascript": [
       "parent.postMessage({\"jupyterEvent\": \"custom.exercise_interaction\", \"data\": {\"outcomeType\": 1, \"valueTowardsCompletion\": 0.5, \"interactionType\": 1, \"questionType\": 2, \"questionId\": \"3_Model3\", \"learnToolsVersion\": \"0.3.4\", \"failureMessage\": \"\", \"exceptionClass\": \"\", \"trace\": \"\"}}, \"*\")"
      ],
      "text/plain": [
       "<IPython.core.display.Javascript object>"
      ]
     },
     "metadata": {},
     "output_type": "display_data"
    },
    {
     "data": {
      "text/markdown": [
       "<span style=\"color:#33cc33\">Correct</span>"
      ],
      "text/plain": [
       "Correct"
      ]
     },
     "metadata": {},
     "output_type": "display_data"
    }
   ],
   "source": [
    "# Define the model\n",
    "my_model_3 = XGBRegressor (n_estimators = 500,  learning_rate=0.5)\n",
    "\n",
    "# Fit the model\n",
    "my_model_3.fit(X_train, y_train,)\n",
    "\n",
    "# Get predictions\n",
    "predictions_3 = my_model_3.predict(X_valid)\n",
    "\n",
    "# Calculate MAE\n",
    "mae_3 = mean_absolute_error(predictions_3,y_valid)\n",
    "\n",
    "# Uncomment to print MAE\n",
    "print(\"Mean Absolute Error:\" , mae_3)\n",
    "\n",
    "# Check your answer\n",
    "step_3.check()"
   ]
  },
  {
   "cell_type": "code",
   "execution_count": 12,
   "id": "fb7ab592",
   "metadata": {
    "execution": {
     "iopub.execute_input": "2023-07-02T21:11:19.132921Z",
     "iopub.status.busy": "2023-07-02T21:11:19.132483Z",
     "iopub.status.idle": "2023-07-02T21:11:19.137015Z",
     "shell.execute_reply": "2023-07-02T21:11:19.135995Z"
    },
    "papermill": {
     "duration": 0.016712,
     "end_time": "2023-07-02T21:11:19.139282",
     "exception": false,
     "start_time": "2023-07-02T21:11:19.122570",
     "status": "completed"
    },
    "tags": []
   },
   "outputs": [],
   "source": [
    "# Lines below will give you a hint or solution code\n",
    "#step_3.hint()\n",
    "#step_3.solution()"
   ]
  },
  {
   "cell_type": "markdown",
   "id": "a1d5b63c",
   "metadata": {
    "papermill": {
     "duration": 0.008533,
     "end_time": "2023-07-02T21:11:19.156630",
     "exception": false,
     "start_time": "2023-07-02T21:11:19.148097",
     "status": "completed"
    },
    "tags": []
   },
   "source": [
    "# Keep going\n",
    "\n",
    "Continue to learn about **[data leakage](https://www.kaggle.com/alexisbcook/data-leakage)**.  This is an important issue for a data scientist to understand, and it has the potential to ruin your models in subtle and dangerous ways!"
   ]
  },
  {
   "cell_type": "markdown",
   "id": "67abdefb",
   "metadata": {
    "papermill": {
     "duration": 0.008588,
     "end_time": "2023-07-02T21:11:19.173979",
     "exception": false,
     "start_time": "2023-07-02T21:11:19.165391",
     "status": "completed"
    },
    "tags": []
   },
   "source": [
    "---\n",
    "\n",
    "\n",
    "\n",
    "\n",
    "*Have questions or comments? Visit the [course discussion forum](https://www.kaggle.com/learn/intermediate-machine-learning/discussion) to chat with other learners.*"
   ]
  }
 ],
 "metadata": {
  "kernelspec": {
   "display_name": "Python 3",
   "language": "python",
   "name": "python3"
  },
  "language_info": {
   "codemirror_mode": {
    "name": "ipython",
    "version": 3
   },
   "file_extension": ".py",
   "mimetype": "text/x-python",
   "name": "python",
   "nbconvert_exporter": "python",
   "pygments_lexer": "ipython3",
   "version": "3.10.10"
  },
  "papermill": {
   "default_parameters": {},
   "duration": 22.601722,
   "end_time": "2023-07-02T21:11:20.107272",
   "environment_variables": {},
   "exception": null,
   "input_path": "__notebook__.ipynb",
   "output_path": "__notebook__.ipynb",
   "parameters": {},
   "start_time": "2023-07-02T21:10:57.505550",
   "version": "2.4.0"
  }
 },
 "nbformat": 4,
 "nbformat_minor": 5
}
