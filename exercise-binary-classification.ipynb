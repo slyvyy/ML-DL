{
 "cells": [
  {
   "cell_type": "markdown",
   "id": "d4de354d",
   "metadata": {
    "papermill": {
     "duration": 0.004525,
     "end_time": "2023-06-30T17:52:30.343336",
     "exception": false,
     "start_time": "2023-06-30T17:52:30.338811",
     "status": "completed"
    },
    "tags": []
   },
   "source": [
    "**This notebook is an exercise in the [Intro to Deep Learning](https://www.kaggle.com/learn/intro-to-deep-learning) course.  You can reference the tutorial at [this link](https://www.kaggle.com/ryanholbrook/binary-classification).**\n",
    "\n",
    "---\n"
   ]
  },
  {
   "cell_type": "markdown",
   "id": "ce072618",
   "metadata": {
    "papermill": {
     "duration": 0.003763,
     "end_time": "2023-06-30T17:52:30.351333",
     "exception": false,
     "start_time": "2023-06-30T17:52:30.347570",
     "status": "completed"
    },
    "tags": []
   },
   "source": [
    "# Introduction #\n",
    "\n",
    "In this exercise, you'll build a model to predict hotel cancellations with a binary classifier."
   ]
  },
  {
   "cell_type": "code",
   "execution_count": 1,
   "id": "d8fec72f",
   "metadata": {
    "execution": {
     "iopub.execute_input": "2023-06-30T17:52:30.360986Z",
     "iopub.status.busy": "2023-06-30T17:52:30.360366Z",
     "iopub.status.idle": "2023-06-30T17:52:30.401412Z",
     "shell.execute_reply": "2023-06-30T17:52:30.400616Z"
    },
    "lines_to_next_cell": 0,
    "papermill": {
     "duration": 0.048173,
     "end_time": "2023-06-30T17:52:30.403457",
     "exception": false,
     "start_time": "2023-06-30T17:52:30.355284",
     "status": "completed"
    },
    "tags": []
   },
   "outputs": [],
   "source": [
    "# Setup plotting\n",
    "import matplotlib.pyplot as plt\n",
    "plt.style.use('Solarize_Light2')\n",
    "# Set Matplotlib defaults\n",
    "plt.rc('figure', autolayout=True)\n",
    "plt.rc('axes', labelweight='bold', labelsize='large',\n",
    "       titleweight='bold', titlesize=18, titlepad=10)\n",
    "plt.rc('animation', html='html5')\n",
    "\n",
    "# Setup feedback system\n",
    "from learntools.core import binder\n",
    "binder.bind(globals())\n",
    "from learntools.deep_learning_intro.ex6 import *"
   ]
  },
  {
   "cell_type": "markdown",
   "id": "cbba99ec",
   "metadata": {
    "papermill": {
     "duration": 0.003731,
     "end_time": "2023-06-30T17:52:30.411164",
     "exception": false,
     "start_time": "2023-06-30T17:52:30.407433",
     "status": "completed"
    },
    "tags": []
   },
   "source": [
    "First, load the *Hotel Cancellations* dataset."
   ]
  },
  {
   "cell_type": "code",
   "execution_count": 2,
   "id": "410926ab",
   "metadata": {
    "execution": {
     "iopub.execute_input": "2023-06-30T17:52:30.421115Z",
     "iopub.status.busy": "2023-06-30T17:52:30.420426Z",
     "iopub.status.idle": "2023-06-30T17:52:33.016847Z",
     "shell.execute_reply": "2023-06-30T17:52:33.015872Z"
    },
    "lines_to_next_cell": 2,
    "papermill": {
     "duration": 2.604319,
     "end_time": "2023-06-30T17:52:33.019532",
     "exception": false,
     "start_time": "2023-06-30T17:52:30.415213",
     "status": "completed"
    },
    "tags": []
   },
   "outputs": [],
   "source": [
    "import pandas as pd\n",
    "\n",
    "from sklearn.model_selection import train_test_split\n",
    "from sklearn.preprocessing import StandardScaler, OneHotEncoder\n",
    "from sklearn.impute import SimpleImputer\n",
    "from sklearn.pipeline import make_pipeline\n",
    "from sklearn.compose import make_column_transformer\n",
    "\n",
    "hotel = pd.read_csv('../input/dl-course-data/hotel.csv')\n",
    "\n",
    "X = hotel.copy()\n",
    "y = X.pop('is_canceled')\n",
    "\n",
    "X['arrival_date_month'] = \\\n",
    "    X['arrival_date_month'].map(\n",
    "        {'January':1, 'February': 2, 'March':3,\n",
    "         'April':4, 'May':5, 'June':6, 'July':7,\n",
    "         'August':8, 'September':9, 'October':10,\n",
    "         'November':11, 'December':12}\n",
    "    )\n",
    "\n",
    "features_num = [\n",
    "    \"lead_time\", \"arrival_date_week_number\",\n",
    "    \"arrival_date_day_of_month\", \"stays_in_weekend_nights\",\n",
    "    \"stays_in_week_nights\", \"adults\", \"children\", \"babies\",\n",
    "    \"is_repeated_guest\", \"previous_cancellations\",\n",
    "    \"previous_bookings_not_canceled\", \"required_car_parking_spaces\",\n",
    "    \"total_of_special_requests\", \"adr\",\n",
    "]\n",
    "features_cat = [\n",
    "    \"hotel\", \"arrival_date_month\", \"meal\",\n",
    "    \"market_segment\", \"distribution_channel\",\n",
    "    \"reserved_room_type\", \"deposit_type\", \"customer_type\",\n",
    "]\n",
    "\n",
    "transformer_num = make_pipeline(\n",
    "    SimpleImputer(strategy=\"constant\"), # there are a few missing values\n",
    "    StandardScaler(),\n",
    ")\n",
    "transformer_cat = make_pipeline(\n",
    "    SimpleImputer(strategy=\"constant\", fill_value=\"NA\"),\n",
    "    OneHotEncoder(handle_unknown='ignore'),\n",
    ")\n",
    "\n",
    "preprocessor = make_column_transformer(\n",
    "    (transformer_num, features_num),\n",
    "    (transformer_cat, features_cat),\n",
    ")\n",
    "\n",
    "# stratify - make sure classes are evenlly represented across splits\n",
    "X_train, X_valid, y_train, y_valid = \\\n",
    "    train_test_split(X, y, stratify=y, train_size=0.75)\n",
    "\n",
    "X_train = preprocessor.fit_transform(X_train)\n",
    "X_valid = preprocessor.transform(X_valid)\n",
    "\n",
    "input_shape = [X_train.shape[1]]"
   ]
  },
  {
   "cell_type": "markdown",
   "id": "ccc3b814",
   "metadata": {
    "papermill": {
     "duration": 0.00387,
     "end_time": "2023-06-30T17:52:33.027888",
     "exception": false,
     "start_time": "2023-06-30T17:52:33.024018",
     "status": "completed"
    },
    "tags": []
   },
   "source": [
    "# 1) Define Model #\n",
    "\n",
    "The model we'll use this time will have both batch normalization and dropout layers. To ease reading we've broken the diagram into blocks, but you can define it layer by layer as usual.\n",
    "\n",
    "Define a model with an architecture given by this diagram:\n",
    "\n",
    "<figure style=\"padding: 1em;\">\n",
    "<img src=\"https://storage.googleapis.com/kaggle-media/learn/images/V04o59Z.png\" width=\"400\" alt=\"Diagram of network architecture: BatchNorm, Dense, BatchNorm, Dropout, Dense, BatchNorm, Dropout, Dense.\">\n",
    "<figcaption style=\"textalign: center; font-style: italic\"><center>Diagram of a binary classifier.</center></figcaption>\n",
    "</figure>\n"
   ]
  },
  {
   "cell_type": "code",
   "execution_count": 3,
   "id": "3b574911",
   "metadata": {
    "execution": {
     "iopub.execute_input": "2023-06-30T17:52:33.036963Z",
     "iopub.status.busy": "2023-06-30T17:52:33.036647Z",
     "iopub.status.idle": "2023-06-30T17:52:44.035577Z",
     "shell.execute_reply": "2023-06-30T17:52:44.034668Z"
    },
    "lines_to_next_cell": 2,
    "papermill": {
     "duration": 11.00584,
     "end_time": "2023-06-30T17:52:44.037643",
     "exception": false,
     "start_time": "2023-06-30T17:52:33.031803",
     "status": "completed"
    },
    "tags": []
   },
   "outputs": [
    {
     "name": "stderr",
     "output_type": "stream",
     "text": [
      "/opt/conda/lib/python3.10/site-packages/tensorflow_io/python/ops/__init__.py:98: UserWarning: unable to load libtensorflow_io_plugins.so: unable to open file: libtensorflow_io_plugins.so, from paths: ['/opt/conda/lib/python3.10/site-packages/tensorflow_io/python/ops/libtensorflow_io_plugins.so']\n",
      "caused by: ['/opt/conda/lib/python3.10/site-packages/tensorflow_io/python/ops/libtensorflow_io_plugins.so: undefined symbol: _ZN3tsl6StatusC1EN10tensorflow5error4CodeESt17basic_string_viewIcSt11char_traitsIcEENS_14SourceLocationE']\n",
      "  warnings.warn(f\"unable to load libtensorflow_io_plugins.so: {e}\")\n",
      "/opt/conda/lib/python3.10/site-packages/tensorflow_io/python/ops/__init__.py:104: UserWarning: file system plugins are not loaded: unable to open file: libtensorflow_io.so, from paths: ['/opt/conda/lib/python3.10/site-packages/tensorflow_io/python/ops/libtensorflow_io.so']\n",
      "caused by: ['/opt/conda/lib/python3.10/site-packages/tensorflow_io/python/ops/libtensorflow_io.so: undefined symbol: _ZTVN10tensorflow13GcsFileSystemE']\n",
      "  warnings.warn(f\"file system plugins are not loaded: {e}\")\n"
     ]
    },
    {
     "data": {
      "application/javascript": [
       "parent.postMessage({\"jupyterEvent\": \"custom.exercise_interaction\", \"data\": {\"outcomeType\": 1, \"valueTowardsCompletion\": 0.3333333333333333, \"interactionType\": 1, \"questionType\": 2, \"questionId\": \"1_Q1\", \"learnToolsVersion\": \"0.3.4\", \"failureMessage\": \"\", \"exceptionClass\": \"\", \"trace\": \"\"}}, \"*\")"
      ],
      "text/plain": [
       "<IPython.core.display.Javascript object>"
      ]
     },
     "metadata": {},
     "output_type": "display_data"
    },
    {
     "data": {
      "text/markdown": [
       "<span style=\"color:#33cc33\">Correct</span>"
      ],
      "text/plain": [
       "Correct"
      ]
     },
     "metadata": {},
     "output_type": "display_data"
    }
   ],
   "source": [
    "from tensorflow import keras\n",
    "from tensorflow.keras import layers\n",
    "\n",
    "# YOUR CODE HERE: define the model given in the diagram\n",
    "model = keras.Sequential([\n",
    "    layers.BatchNormalization(input_shape = input_shape),\n",
    "    layers.Dense(256,activation ='relu'),\n",
    "    layers.BatchNormalization(),\n",
    "    layers.Dropout(0.3),\n",
    "    layers.Dense(256,activation ='relu'),\n",
    "    layers.BatchNormalization(),\n",
    "    layers.Dropout(0.3),\n",
    "    layers.Dense(1,activation = 'sigmoid'), \n",
    "])\n",
    "\n",
    "# Check your answer\n",
    "q_1.check()"
   ]
  },
  {
   "cell_type": "markdown",
   "id": "4621db9c",
   "metadata": {
    "papermill": {
     "duration": 0.004539,
     "end_time": "2023-06-30T17:52:44.046927",
     "exception": false,
     "start_time": "2023-06-30T17:52:44.042388",
     "status": "completed"
    },
    "tags": []
   },
   "source": [
    "# 2) Add Optimizer, Loss, and Metric #\n",
    "\n",
    "Now compile the model with the Adam optimizer and binary versions of the cross-entropy loss and accuracy metric."
   ]
  },
  {
   "cell_type": "code",
   "execution_count": 4,
   "id": "a49116cb",
   "metadata": {
    "execution": {
     "iopub.execute_input": "2023-06-30T17:52:44.057606Z",
     "iopub.status.busy": "2023-06-30T17:52:44.056741Z",
     "iopub.status.idle": "2023-06-30T17:52:44.077028Z",
     "shell.execute_reply": "2023-06-30T17:52:44.076208Z"
    },
    "lines_to_next_cell": 0,
    "papermill": {
     "duration": 0.027563,
     "end_time": "2023-06-30T17:52:44.078906",
     "exception": false,
     "start_time": "2023-06-30T17:52:44.051343",
     "status": "completed"
    },
    "tags": []
   },
   "outputs": [
    {
     "data": {
      "application/javascript": [
       "parent.postMessage({\"jupyterEvent\": \"custom.exercise_interaction\", \"data\": {\"outcomeType\": 1, \"valueTowardsCompletion\": 0.3333333333333333, \"interactionType\": 1, \"questionType\": 2, \"questionId\": \"2_Q2\", \"learnToolsVersion\": \"0.3.4\", \"failureMessage\": \"\", \"exceptionClass\": \"\", \"trace\": \"\"}}, \"*\")"
      ],
      "text/plain": [
       "<IPython.core.display.Javascript object>"
      ]
     },
     "metadata": {},
     "output_type": "display_data"
    },
    {
     "data": {
      "text/markdown": [
       "<span style=\"color:#33cc33\">Correct</span>"
      ],
      "text/plain": [
       "Correct"
      ]
     },
     "metadata": {},
     "output_type": "display_data"
    }
   ],
   "source": [
    "# YOUR CODE HERE\n",
    "model.compile(\n",
    "    optimizer = 'adam',\n",
    "    loss='binary_crossentropy',\n",
    "    metrics=['binary_accuracy'],\n",
    ")\n",
    "\n",
    "# Check your answer\n",
    "q_2.check()"
   ]
  },
  {
   "cell_type": "code",
   "execution_count": 5,
   "id": "9f81645f",
   "metadata": {
    "execution": {
     "iopub.execute_input": "2023-06-30T17:52:44.089847Z",
     "iopub.status.busy": "2023-06-30T17:52:44.089152Z",
     "iopub.status.idle": "2023-06-30T17:52:44.094002Z",
     "shell.execute_reply": "2023-06-30T17:52:44.093192Z"
    },
    "lines_to_next_cell": 0,
    "papermill": {
     "duration": 0.012401,
     "end_time": "2023-06-30T17:52:44.095965",
     "exception": false,
     "start_time": "2023-06-30T17:52:44.083564",
     "status": "completed"
    },
    "tags": []
   },
   "outputs": [],
   "source": [
    "# Lines below will give you a hint or solution code\n",
    "#q_2.hint()\n",
    "#q_2.solution()"
   ]
  },
  {
   "cell_type": "markdown",
   "id": "0dcd8989",
   "metadata": {
    "papermill": {
     "duration": 0.004484,
     "end_time": "2023-06-30T17:52:44.105032",
     "exception": false,
     "start_time": "2023-06-30T17:52:44.100548",
     "status": "completed"
    },
    "tags": []
   },
   "source": [
    "Finally, run this cell to train the model and view the learning curves. It may run for around 60 to 70 epochs, which could take a minute or two."
   ]
  },
  {
   "cell_type": "code",
   "execution_count": 6,
   "id": "e0d5abe0",
   "metadata": {
    "execution": {
     "iopub.execute_input": "2023-06-30T17:52:44.115761Z",
     "iopub.status.busy": "2023-06-30T17:52:44.115100Z",
     "iopub.status.idle": "2023-06-30T17:53:27.659083Z",
     "shell.execute_reply": "2023-06-30T17:53:27.658217Z"
    },
    "papermill": {
     "duration": 43.551365,
     "end_time": "2023-06-30T17:53:27.661050",
     "exception": false,
     "start_time": "2023-06-30T17:52:44.109685",
     "status": "completed"
    },
    "tags": []
   },
   "outputs": [
    {
     "name": "stdout",
     "output_type": "stream",
     "text": [
      "Epoch 1/200\n",
      "175/175 [==============================] - 7s 7ms/step - loss: 0.4840 - binary_accuracy: 0.7703 - val_loss: 0.4282 - val_binary_accuracy: 0.8023\n",
      "Epoch 2/200\n",
      "175/175 [==============================] - 1s 6ms/step - loss: 0.4225 - binary_accuracy: 0.8007 - val_loss: 0.3988 - val_binary_accuracy: 0.8152\n",
      "Epoch 3/200\n",
      "175/175 [==============================] - 1s 6ms/step - loss: 0.4095 - binary_accuracy: 0.8090 - val_loss: 0.3931 - val_binary_accuracy: 0.8187\n",
      "Epoch 4/200\n",
      "175/175 [==============================] - 1s 6ms/step - loss: 0.4020 - binary_accuracy: 0.8131 - val_loss: 0.3888 - val_binary_accuracy: 0.8205\n",
      "Epoch 5/200\n",
      "175/175 [==============================] - 1s 6ms/step - loss: 0.3968 - binary_accuracy: 0.8152 - val_loss: 0.3846 - val_binary_accuracy: 0.8208\n",
      "Epoch 6/200\n",
      "175/175 [==============================] - 1s 6ms/step - loss: 0.3925 - binary_accuracy: 0.8173 - val_loss: 0.3809 - val_binary_accuracy: 0.8219\n",
      "Epoch 7/200\n",
      "175/175 [==============================] - 1s 6ms/step - loss: 0.3892 - binary_accuracy: 0.8197 - val_loss: 0.3767 - val_binary_accuracy: 0.8244\n",
      "Epoch 8/200\n",
      "175/175 [==============================] - 1s 6ms/step - loss: 0.3847 - binary_accuracy: 0.8223 - val_loss: 0.3766 - val_binary_accuracy: 0.8270\n",
      "Epoch 9/200\n",
      "175/175 [==============================] - 1s 6ms/step - loss: 0.3836 - binary_accuracy: 0.8213 - val_loss: 0.3749 - val_binary_accuracy: 0.8268\n",
      "Epoch 10/200\n",
      "175/175 [==============================] - 1s 6ms/step - loss: 0.3793 - binary_accuracy: 0.8255 - val_loss: 0.3720 - val_binary_accuracy: 0.8283\n",
      "Epoch 11/200\n",
      "175/175 [==============================] - 1s 6ms/step - loss: 0.3772 - binary_accuracy: 0.8242 - val_loss: 0.3722 - val_binary_accuracy: 0.8281\n",
      "Epoch 12/200\n",
      "175/175 [==============================] - 1s 6ms/step - loss: 0.3750 - binary_accuracy: 0.8261 - val_loss: 0.3693 - val_binary_accuracy: 0.8329\n",
      "Epoch 13/200\n",
      "175/175 [==============================] - 1s 6ms/step - loss: 0.3714 - binary_accuracy: 0.8275 - val_loss: 0.3674 - val_binary_accuracy: 0.8304\n",
      "Epoch 14/200\n",
      "175/175 [==============================] - 1s 6ms/step - loss: 0.3701 - binary_accuracy: 0.8293 - val_loss: 0.3660 - val_binary_accuracy: 0.8322\n",
      "Epoch 15/200\n",
      "175/175 [==============================] - 1s 6ms/step - loss: 0.3684 - binary_accuracy: 0.8293 - val_loss: 0.3644 - val_binary_accuracy: 0.8341\n",
      "Epoch 16/200\n",
      "175/175 [==============================] - 1s 6ms/step - loss: 0.3655 - binary_accuracy: 0.8312 - val_loss: 0.3651 - val_binary_accuracy: 0.8334\n",
      "Epoch 17/200\n",
      "175/175 [==============================] - 1s 6ms/step - loss: 0.3648 - binary_accuracy: 0.8306 - val_loss: 0.3607 - val_binary_accuracy: 0.8346\n",
      "Epoch 18/200\n",
      "175/175 [==============================] - 1s 6ms/step - loss: 0.3634 - binary_accuracy: 0.8322 - val_loss: 0.3602 - val_binary_accuracy: 0.8364\n",
      "Epoch 19/200\n",
      "175/175 [==============================] - 1s 6ms/step - loss: 0.3617 - binary_accuracy: 0.8335 - val_loss: 0.3626 - val_binary_accuracy: 0.8344\n",
      "Epoch 20/200\n",
      "175/175 [==============================] - 1s 6ms/step - loss: 0.3596 - binary_accuracy: 0.8329 - val_loss: 0.3603 - val_binary_accuracy: 0.8364\n",
      "Epoch 21/200\n",
      "175/175 [==============================] - 1s 8ms/step - loss: 0.3583 - binary_accuracy: 0.8352 - val_loss: 0.3590 - val_binary_accuracy: 0.8362\n",
      "Epoch 22/200\n",
      "175/175 [==============================] - 1s 6ms/step - loss: 0.3573 - binary_accuracy: 0.8352 - val_loss: 0.3549 - val_binary_accuracy: 0.8384\n",
      "Epoch 23/200\n",
      "175/175 [==============================] - 1s 6ms/step - loss: 0.3561 - binary_accuracy: 0.8350 - val_loss: 0.3563 - val_binary_accuracy: 0.8354\n",
      "Epoch 24/200\n",
      "175/175 [==============================] - 1s 6ms/step - loss: 0.3550 - binary_accuracy: 0.8357 - val_loss: 0.3546 - val_binary_accuracy: 0.8384\n",
      "Epoch 25/200\n",
      "175/175 [==============================] - 1s 6ms/step - loss: 0.3534 - binary_accuracy: 0.8367 - val_loss: 0.3586 - val_binary_accuracy: 0.8373\n",
      "Epoch 26/200\n",
      "175/175 [==============================] - 1s 7ms/step - loss: 0.3518 - binary_accuracy: 0.8378 - val_loss: 0.3541 - val_binary_accuracy: 0.8383\n",
      "Epoch 27/200\n",
      "175/175 [==============================] - 1s 6ms/step - loss: 0.3510 - binary_accuracy: 0.8382 - val_loss: 0.3546 - val_binary_accuracy: 0.8384\n"
     ]
    },
    {
     "data": {
      "text/plain": [
       "<Axes: title={'center': 'Accuracy'}>"
      ]
     },
     "execution_count": 6,
     "metadata": {},
     "output_type": "execute_result"
    },
    {
     "data": {
      "image/png": "[encoded data removed]",
      "text/plain": [
       "<Figure size 640x480 with 1 Axes>"
      ]
     },
     "metadata": {},
     "output_type": "display_data"
    },
    {
     "data": {
      "image/png": "[encoded data removed]",
      "text/plain": [
       "<Figure size 640x480 with 1 Axes>"
      ]
     },
     "metadata": {},
     "output_type": "display_data"
    }
   ],
   "source": [
    "early_stopping = keras.callbacks.EarlyStopping(\n",
    "    patience=5,\n",
    "    min_delta=0.001,\n",
    "    restore_best_weights=True,\n",
    ")\n",
    "history = model.fit(\n",
    "    X_train, y_train,\n",
    "    validation_data=(X_valid, y_valid),\n",
    "    batch_size=512,\n",
    "    epochs=200,\n",
    "    callbacks=[early_stopping],\n",
    ")\n",
    "\n",
    "history_df = pd.DataFrame(history.history)\n",
    "history_df.loc[:, ['loss', 'val_loss']].plot(title=\"Cross-entropy\")\n",
    "history_df.loc[:, ['binary_accuracy', 'val_binary_accuracy']].plot(title=\"Accuracy\")"
   ]
  },
  {
   "cell_type": "markdown",
   "id": "1fe7329a",
   "metadata": {
    "papermill": {
     "duration": 0.043476,
     "end_time": "2023-06-30T17:53:27.749755",
     "exception": false,
     "start_time": "2023-06-30T17:53:27.706279",
     "status": "completed"
    },
    "tags": []
   },
   "source": [
    "# 3) Train and Evaluate #\n",
    "\n",
    "\n",
    "What do you think about the learning curves? Does it look like the model underfit or overfit? Was the cross-entropy loss a good stand-in for accuracy?"
   ]
  },
  {
   "cell_type": "code",
   "execution_count": 7,
   "id": "60b1ed39",
   "metadata": {
    "execution": {
     "iopub.execute_input": "2023-06-30T17:53:27.838823Z",
     "iopub.status.busy": "2023-06-30T17:53:27.838472Z",
     "iopub.status.idle": "2023-06-30T17:53:27.846143Z",
     "shell.execute_reply": "2023-06-30T17:53:27.845275Z"
    },
    "papermill": {
     "duration": 0.055528,
     "end_time": "2023-06-30T17:53:27.848556",
     "exception": false,
     "start_time": "2023-06-30T17:53:27.793028",
     "status": "completed"
    },
    "tags": []
   },
   "outputs": [
    {
     "data": {
      "application/javascript": [
       "parent.postMessage({\"jupyterEvent\": \"custom.exercise_interaction\", \"data\": {\"outcomeType\": 1, \"valueTowardsCompletion\": 0.3333333333333333, \"interactionType\": 1, \"questionType\": 4, \"questionId\": \"3_Q3\", \"learnToolsVersion\": \"0.3.4\", \"failureMessage\": \"\", \"exceptionClass\": \"\", \"trace\": \"\"}}, \"*\")"
      ],
      "text/plain": [
       "<IPython.core.display.Javascript object>"
      ]
     },
     "metadata": {},
     "output_type": "display_data"
    },
    {
     "data": {
      "text/markdown": [
       "<span style=\"color:#33cc33\">Correct:</span> \n",
       "\n",
       "Though we can see the training loss continuing to fall, the early stopping callback prevented any overfitting. Moreover, the accuracy rose at the same rate as the cross-entropy fell, so it appears that minimizing cross-entropy was a good stand-in. All in all, it looks like this training was a success!"
      ],
      "text/plain": [
       "Correct: \n",
       "\n",
       "Though we can see the training loss continuing to fall, the early stopping callback prevented any overfitting. Moreover, the accuracy rose at the same rate as the cross-entropy fell, so it appears that minimizing cross-entropy was a good stand-in. All in all, it looks like this training was a success!"
      ]
     },
     "metadata": {},
     "output_type": "display_data"
    }
   ],
   "source": [
    "# View the solution (Run this cell to receive credit!)\n",
    "q_3.check()"
   ]
  },
  {
   "cell_type": "markdown",
   "id": "3a1c770c",
   "metadata": {
    "papermill": {
     "duration": 0.043896,
     "end_time": "2023-06-30T17:53:27.936445",
     "exception": false,
     "start_time": "2023-06-30T17:53:27.892549",
     "status": "completed"
    },
    "tags": []
   },
   "source": [
    "# Conclusion #\n",
    "\n",
    "Congratulations! You've completed Kaggle's *Introduction to Deep Learning* course!\n",
    "\n",
    "With your new skills you're ready to take on more advanced applications like computer vision and sentiment classification. What would you like to do next?\n",
    "\n",
    "Why not try one of our *Getting Started* competitions?\n",
    "\n",
    "- Classify images with TPUs in [**Petals to the Metal**](https://www.kaggle.com/c/tpu-getting-started)\n",
    "- Create art with GANs in [**I'm Something of a Painter Myself**](https://www.kaggle.com/c/gan-getting-started)\n",
    "- Classify Tweets in [**Real or Not? NLP with Disaster Tweets**](https://www.kaggle.com/c/nlp-getting-started)\n",
    "- Detect contradiction and entailment in [**Contradictory, My Dear Watson**](https://www.kaggle.com/c/contradictory-my-dear-watson)\n",
    "\n",
    "Until next time, Kagglers!"
   ]
  },
  {
   "cell_type": "markdown",
   "id": "de5bc527",
   "metadata": {
    "papermill": {
     "duration": 0.044522,
     "end_time": "2023-06-30T17:53:28.024785",
     "exception": false,
     "start_time": "2023-06-30T17:53:27.980263",
     "status": "completed"
    },
    "tags": []
   },
   "source": [
    "---\n",
    "\n",
    "\n",
    "\n",
    "\n",
    "*Have questions or comments? Visit the [course discussion forum](https://www.kaggle.com/learn/intro-to-deep-learning/discussion) to chat with other learners.*"
   ]
  }
 ],
 "metadata": {
  "kernelspec": {
   "display_name": "Python 3",
   "language": "python",
   "name": "python3"
  },
  "language_info": {
   "codemirror_mode": {
    "name": "ipython",
    "version": 3
   },
   "file_extension": ".py",
   "mimetype": "text/x-python",
   "name": "python",
   "nbconvert_exporter": "python",
   "pygments_lexer": "ipython3",
   "version": "3.10.10"
  },
  "papermill": {
   "default_parameters": {},
   "duration": 71.73316,
   "end_time": "2023-06-30T17:53:31.546797",
   "environment_variables": {},
   "exception": null,
   "input_path": "__notebook__.ipynb",
   "output_path": "__notebook__.ipynb",
   "parameters": {},
   "start_time": "2023-06-30T17:52:19.813637",
   "version": "2.4.0"
  }
 },
 "nbformat": 4,
 "nbformat_minor": 5
}
